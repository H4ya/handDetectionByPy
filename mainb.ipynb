{
 "cells": [
  {
   "cell_type": "code",
   "execution_count": null,
   "id": "00b7b267",
   "metadata": {
    "vscode": {
     "languageId": "plaintext"
    }
   },
   "outputs": [],
   "source": [
    "#To run a run in terminal use 'python main.py'\n",
    "#To run a part of the code use shift+enter\n"
   ]
  },
  {
   "cell_type": "code",
   "execution_count": null,
   "id": "0b3129c1",
   "metadata": {
    "vscode": {
     "languageId": "plaintext"
    }
   },
   "outputs": [],
   "source": [
    "\n",
    "print(\"fsdf\")\n",
    "\n",
    "print(\"fsdf222\")\n"
   ]
  }
 ],
 "metadata": {
  "language_info": {
   "name": "python"
  }
 },
 "nbformat": 4,
 "nbformat_minor": 5
}
